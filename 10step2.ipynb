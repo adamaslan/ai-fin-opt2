{
 "cells": [
  {
   "cell_type": "code",
   "execution_count": null,
   "metadata": {
    "vscode": {
     "languageId": "plaintext"
    }
   },
   "outputs": [],
   "source": [
    "!pip install ollama pandas ta-lib numpy scipy aiohttp nest_asyncio yfinance\n",
    "\n",
    "import ollama\n",
    "import pandas as pd\n",
    "import numpy as np\n",
    "import yfinance as yf\n",
    "from scipy.signal import argrelextrema\n",
    "import asyncio\n",
    "import aiohttp\n",
    "from nest_asyncio import apply\n",
    "apply()  # For Jupyter async support\n",
    "\n",
    "class DataIngestionAgent:\n",
    "    async def fetch(self, url, session, retries=3):\n",
    "        for _ in range(retries):\n",
    "            try:\n",
    "                async with session.get(url, timeout=5) as response:\n",
    "                    return await response.json()\n",
    "            except (aiohttp.ClientError, asyncio.TimeoutError):\n",
    "                await asyncio.sleep(2)\n",
    "        return None\n",
    "\n",
    "    async def gather_data(self, ticker):\n",
    "        async with aiohttp.ClientSession() as session:\n",
    "            tasks = [\n",
    "                self.fetch(f\"https://mock-news-api.com/latest?ticker={ticker}\", session)\n",
    "            ]\n",
    "            results = await asyncio.gather(*tasks)\n",
    "\n",
    "        # Fetch options data using yfinance\n",
    "        stock = yf.Ticker(ticker)\n",
    "        options_data = stock.option_chain()\n",
    "\n",
    "        return {\n",
    "            \"options\": options_data,\n",
    "            \"news\": results[0] or [{\"title\": \"Sample News\", \"content\": \"Sample content...\"}]\n",
    "        }\n"
   ]
  },
  {
   "cell_type": "code",
   "execution_count": null,
   "metadata": {
    "vscode": {
     "languageId": "plaintext"
    }
   },
   "outputs": [],
   "source": [
    "class SentimentAnalysisAgent:\n",
    "    def __init__(self):\n",
    "        self.embed_model = \"all-minilm\"\n",
    "        self.llm = \"phi3\"  # 2.7B parameter model\n",
    "\n",
    "    def analyze(self, text):\n",
    "        # Generate embeddings\n",
    "        embeds = ollama.embeddings(model=self.embed_model, prompt=text)[\"embedding\"]\n",
    "\n",
    "        # RAG context (simplified)\n",
    "        rag_context = \"Bullish: innovation, growth, upgrade. Bearish: recall, lawsuit, decline.\"\n",
    "\n",
    "        # Sentiment determination\n",
    "        response = ollama.generate(\n",
    "            model=self.llm,\n",
    "            prompt=f\"Context: {rag_context}\\nScore sentiment (-1 to 1) for: {text}\"\n",
    "        )\n",
    "        try:\n",
    "            return float(response[\"response\"].strip())\n",
    "        except:\n",
    "            return 0.0\n",
    "\n",
    "\n",
    "class SignalGenerationAgent:\n",
    "    def generate(self, options_data, sentiment):\n",
    "        # Calculate Bollinger Bands and RSI for the underlying asset\n",
    "        underlying_prices = options_data.calls['lastPrice'].dropna()\n",
    "        sma = underlying_prices.rolling(window=20).mean()\n",
    "        std = underlying_prices.rolling(window=20).std()\n",
    "        bollinger_upper = sma + (std * 2)\n",
    "        bollinger_lower = sma - (std * 2)\n",
    "\n",
    "        delta = underlying_prices.diff()\n",
    "        gain = delta.where(delta > 0, 0)\n",
    "        loss = -delta.where(delta < 0, 0)\n",
    "        avg_gain = gain.rolling(window=14).mean()\n",
    "        avg_loss = loss.rolling(window=14).mean()\n",
    "        rs = avg_gain / avg_loss\n",
    "        rsi = 100 - (100 / (1 + rs))\n",
    "\n",
    "        # Combine signals\n",
    "        signal_strength = (sentiment * 0.7) + (rsi.iloc[-1] / 100 * 0.3)\n",
    "\n",
    "        # Determine options spread strategy\n",
    "        if underlying_prices.iloc[-1] > bollinger_upper.iloc[-1]:\n",
    "            strategy = \"Bear Call Spread\"\n",
    "        elif underlying_prices.iloc[-1] < bollinger_lower.iloc[-1]:\n",
    "            strategy = \"Bull Put Spread\"\n",
    "        else:\n",
    "            strategy = \"HOLD\"\n",
    "\n",
    "        return {\n",
    "            \"strategy\": strategy,\n",
    "            \"confidence\": abs(signal_strength)\n",
    "        }\n",
    "\n",
    "\n"
   ]
  },
  {
   "cell_type": "code",
   "execution_count": null,
   "metadata": {
    "vscode": {
     "languageId": "plaintext"
    }
   },
   "outputs": [],
   "source": []
  },
  {
   "cell_type": "code",
   "execution_count": null,
   "metadata": {
    "vscode": {
     "languageId": "plaintext"
    }
   },
   "outputs": [],
   "source": [
    "class RiskAssessmentSpecialist:\n",
    "    def validate(self, signal, config):\n",
    "        if signal[\"confidence\"] > 0.8 and signal[\"position_size\"] > config[\"max_size\"]:\n",
    "            raise ValueError(f\"Position size {signal['position_size']} exceeds max {config['max_size']}\")\n",
    "        return True\n",
    "\n"
   ]
  },
  {
   "cell_type": "code",
   "execution_count": null,
   "metadata": {
    "vscode": {
     "languageId": "plaintext"
    }
   },
   "outputs": [],
   "source": [
    "class HyperTradingSpecialist:\n",
    "    def enhance(self, signal):\n",
    "        if signal[\"confidence\"] > 0.85:\n",
    "            return {\n",
    "                **signal,\n",
    "                \"leverage\": 3,\n",
    "                \"stress_scenarios\": {\n",
    "                    \"3x_vol_up\": signal[\"price\"] * 1.15,\n",
    "                    \"3x_vol_down\": signal[\"price\"] * 0.85\n",
    "                }\n",
    "            }\n",
    "        return signal\n"
   ]
  },
  {
   "cell_type": "code",
   "execution_count": null,
   "metadata": {
    "vscode": {
     "languageId": "plaintext"
    }
   },
   "outputs": [],
   "source": [
    "async def trading_pipeline(ticker):\n",
    "    # Stage 1: Data\n",
    "    data_agent = DataIngestionAgent()\n",
    "    raw_data = await data_agent.gather_data(ticker)\n",
    "\n",
    "    # Stage 2: Sentiment\n",
    "    sentiment_agent = SentimentAnalysisAgent()\n",
    "    sentiment = sentiment_agent.analyze(raw_data[\"news\"][0][\"content\"])\n",
    "\n",
    "    # Stage 3: Signals\n",
    "    signal_agent = SignalGenerationAgent()\n",
    "    signal = signal_agent.generate(raw_data[\"options\"], sentiment)\n",
    "\n",
    "    # Stage 4: Risk Check\n",
    "    risk_check = RiskAssessmentSpecialist()\n",
    "    if risk_check.validate(signal, {\"max_size\": 100000}):\n",
    "        # Stage 5: Hyper-Trading\n",
    "        hyper = HyperTradingSpecialist()\n",
    "        enhanced = hyper.enhance(signal)\n",
    "        pd.to_pickle(enhanced, \"hyper_trades.pkl\")\n",
    "        return enhanced\n",
    "\n"
   ]
  },
  {
   "cell_type": "code",
   "execution_count": null,
   "metadata": {
    "vscode": {
     "languageId": "plaintext"
    }
   },
   "outputs": [],
   "source": [
    "result = asyncio.run(trading_pipeline(\"AAPL\"))\n",
    "print(\"Final Trade Signal:\")\n",
    "print(pd.read_pickle(\"hyper_trades.pkl\"))\n",
    "\n"
   ]
  }
 ],
 "metadata": {
  "language_info": {
   "name": "python"
  }
 },
 "nbformat": 4,
 "nbformat_minor": 2
}
